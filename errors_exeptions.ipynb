{
 "cells": [
  {
   "cell_type": "markdown",
   "id": "ea9af1f2-a97f-4ec2-9381-14f033a2d11a",
   "metadata": {},
   "source": [
    "## Exercise\n",
    "\n",
    "### Part One:\n",
    "Run the code block below.  There will be three errors, one at a time.  Examine the difference between the different error types, and fix each so that the next is presented."
   ]
  },
  {
   "cell_type": "code",
   "execution_count": null,
   "id": "56ee58ea-60dc-41f6-9706-3d7bbb6bbd28",
   "metadata": {},
   "outputs": [],
   "source": [
    "from os import strerror\n",
    "\n",
    "#try:\n",
    "cnt = 0\n",
    "wit open('data/txt_data/zen.txt', \"rt\") as s:\n",
    "    ch = s.read(1)\n",
    "    while ch != '':\n",
    "        print(ch, end='')\n",
    "        cnt += 1\n",
    "        ch = s.read(1)\n",
    "    print(\"\\n\\nCharacters in file:\", cnt)\n",
    "\n"
   ]
  },
  {
   "cell_type": "markdown",
   "id": "4d5e85ca-8ff3-4267-b2b4-2f2b5e23ad37",
   "metadata": {},
   "source": [
    "## Hints"
   ]
  },
  {
   "cell_type": "markdown",
   "id": "ae3876b0-1c2d-4f67-b73a-2108771533d9",
   "metadata": {
    "jupyter": {
     "source_hidden": true
    },
    "tags": []
   },
   "source": [
    "First is a syntax error  \n",
    "\n",
    "```python\n",
    "File \"<ipython-input-15-9304cad0f7f5>\", line 5\n",
    "    wth open('data/txt_data/zen.txt', \"rt\") as s:\n",
    "           ^\n",
    "SyntaxError: invalid syntax\n",
    "```"
   ]
  },
  {
   "cell_type": "markdown",
   "id": "6be2af12-0274-4d7f-8290-bbbc5bb17050",
   "metadata": {
    "jupyter": {
     "source_hidden": true
    },
    "tags": []
   },
   "source": [
    "Second is an exception  \n",
    "\n",
    "```python\n",
    "---------------------------------------------------------------------------\n",
    "FileNotFoundError                         Traceback (most recent call last)\n",
    "<ipython-input-16-47f808fe2d62> in <module>\n",
    "      3 #try:\n",
    "      4 cnt = 0\n",
    "----> 5 with open('data/txt_data/zen.txt', \"rt\") as s:\n",
    "      6     ch = s.read(1)\n",
    "      7     while ch != '':\n",
    "\n",
    "FileNotFoundError: [Errno 2] No such file or directory: 'data/txt_data/zen.txt'\n",
    "```"
   ]
  },
  {
   "cell_type": "markdown",
   "id": "e9f1c59a-37b5-45fd-b67d-0b9bba0f5e49",
   "metadata": {
    "jupyter": {
     "source_hidden": true
    },
    "tags": []
   },
   "source": [
    "Third is a syntax error: this is not our expected output.\n",
    "\n",
    "T\n",
    "\n",
    "Characters in file: 1\n",
    "h\n",
    "\n",
    "Characters in file: 2\n",
    "e\n",
    "\n",
    "Characters in file: 3\n",
    " \n",
    "\n",
    "Characters in file: 4\n",
    "Z\n",
    "\n",
    "Characters in file: 5\n",
    "e\n",
    "\n",
    "Characters in file: 6\n",
    "n"
   ]
  },
  {
   "cell_type": "markdown",
   "id": "54d941cd-d07f-42bc-a2c8-74f46fdd083a",
   "metadata": {
    "tags": []
   },
   "source": [
    "### Part Two:\n",
    "\n",
    "Add in an exception handler to handle the thrown exception."
   ]
  },
  {
   "cell_type": "markdown",
   "id": "afcd1e52-73a5-4656-b510-82fe2975278b",
   "metadata": {},
   "source": [
    "## Hint"
   ]
  },
  {
   "cell_type": "code",
   "execution_count": null,
   "id": "931ecd03-1fa2-4692-b284-07fe4c8d54d8",
   "metadata": {
    "jupyter": {
     "source_hidden": true
    },
    "tags": []
   },
   "outputs": [],
   "source": [
    "from os import strerror\n",
    "\n",
    "try:\n",
    "    cnt = 0\n",
    "    with open('data/txt_data/zen.txt', \"rt\") as s:\n",
    "        ch = s.read(1)\n",
    "        while ch != '':\n",
    "            print(ch, end='')\n",
    "            cnt += 1\n",
    "            ch = s.read(1)\n",
    "        print(\"\\n\\nCharacters in file:\", cnt)\n",
    "\n",
    "except IOError as e:\n",
    "    print(\"I/O error occurred: \", strerror(e.errno))"
   ]
  }
 ],
 "metadata": {
  "kernelspec": {
   "display_name": "Python 3",
   "language": "python",
   "name": "python3"
  },
  "language_info": {
   "codemirror_mode": {
    "name": "ipython",
    "version": 3
   },
   "file_extension": ".py",
   "mimetype": "text/x-python",
   "name": "python",
   "nbconvert_exporter": "python",
   "pygments_lexer": "ipython3",
   "version": "3.6.9"
  }
 },
 "nbformat": 4,
 "nbformat_minor": 5
}
