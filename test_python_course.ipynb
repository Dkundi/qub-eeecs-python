{
 "cells": [
  {
   "cell_type": "markdown",
   "id": "f4b6adbb-f7c5-4c8c-ae07-48346fa104f8",
   "metadata": {
    "slideshow": {
     "slide_type": "slide"
    },
    "tags": []
   },
   "source": [
    "This is markdown"
   ]
  },
  {
   "cell_type": "raw",
   "id": "c5ee468d-b8f3-4080-b718-83935346684b",
   "metadata": {},
   "source": [
    "this is raw (so add code but it can't run)"
   ]
  },
  {
   "cell_type": "code",
   "execution_count": null,
   "id": "91ae830c-b08b-4178-9ff3-f7736de87c9c",
   "metadata": {},
   "outputs": [],
   "source": [
    "print(\"this is runnable code\")"
   ]
  },
  {
   "cell_type": "markdown",
   "id": "05e06e61-c964-408a-a9d6-6dd3e237d131",
   "metadata": {
    "tags": []
   },
   "source": [
    "# loading data in python\n",
    "\n",
    "The key function for working with files in Python is the open() function.\n",
    "open() takes two parameters; filename, and mode.\n",
    "\n",
    "There are four modes when opening a file, allowing different actions:  \n",
    "\"r\" - Read - Default. Opens for reading, error if the file does not exist  \n",
    "\"a\" - Append - Opens for appending, creates file if it does not exist  \n",
    "\"w\" - Write - Opens for writing, creates the file if it does not exist  \n",
    "\"x\" - Create - Creates specified file, returns an error if the file exists  \n",
    "\n",
    "open() returns a *file object*.  You must call a function on the file object to use it properly."
   ]
  },
  {
   "cell_type": "markdown",
   "id": "85a11d94-d89d-4512-b8a7-6d3c58eeec58",
   "metadata": {},
   "source": [
    "**Exercise**  \n",
    "(A) Run the code below.  What happens?  Why?  \n",
    "(B) Clear the output (right click --> clear output) then fix it and run it again.  \n",
    "(C) What's happening now? Why?"
   ]
  },
  {
   "cell_type": "code",
   "execution_count": null,
   "id": "8aea0bed-c578-450a-8245-d15a17d1b4da",
   "metadata": {
    "scrolled": true,
    "tags": []
   },
   "outputs": [],
   "source": [
    "with open('../data/lego_data/sets.csv') as data:\n",
    "print(data)\n"
   ]
  },
  {
   "cell_type": "markdown",
   "id": "a1d4880a-7adf-4581-8bff-b7226ce98d9b",
   "metadata": {
    "tags": []
   },
   "source": [
    "HINT:"
   ]
  },
  {
   "cell_type": "raw",
   "id": "aedee41f-fecf-4e0d-aa95-43b432371f4a",
   "metadata": {
    "jupyter": {
     "source_hidden": true
    },
    "tags": []
   },
   "source": [
    "Remember you're returning a file object, you must call a function on it to use it."
   ]
  }
 ],
 "metadata": {
  "kernelspec": {
   "display_name": "Python 3",
   "language": "python",
   "name": "python3"
  },
  "language_info": {
   "codemirror_mode": {
    "name": "ipython",
    "version": 3
   },
   "file_extension": ".py",
   "mimetype": "text/x-python",
   "name": "python",
   "nbconvert_exporter": "python",
   "pygments_lexer": "ipython3",
   "version": "3.6.9"
  },
  "toc-autonumbering": true,
  "toc-showcode": false,
  "toc-showmarkdowntxt": false,
  "toc-showtags": false
 },
 "nbformat": 4,
 "nbformat_minor": 5
}
